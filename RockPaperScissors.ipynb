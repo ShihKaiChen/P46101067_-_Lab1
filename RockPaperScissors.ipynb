{
 "cells": [
  {
   "cell_type": "code",
   "execution_count": null,
   "id": "d06aca53-58ac-411a-b239-4706083cb0b3",
   "metadata": {},
   "outputs": [
    {
     "name": "stdout",
     "output_type": "stream",
     "text": [
      "Welcome to ROCK ,PAPER, SCISSORS game!\n"
     ]
    }
   ],
   "source": [
    "from random import randint\n",
    "print(\"Welcome to ROCK ,PAPER, SCISSORS game!\")\n",
    "win=0\n",
    "l=0\n",
    "t=0\n",
    "while win==0:\n",
    "    com=randint(0,2)\n",
    "    guess=str(input(\"Enter your move: (r)ock (p)aper (s)cissors\"))\n",
    "    if guess=='r':\n",
    "        print('ROCK versus...')\n",
    "        guess=0\n",
    "    elif guess=='p':\n",
    "        print('PAPER versus...')\n",
    "        guess=1\n",
    "    elif guess=='s':\n",
    "        print('SCISSORS versus...')\n",
    "        guess=2\n",
    "    if com==0:\n",
    "        print('ROCK')\n",
    "        \n",
    "    elif com==1:\n",
    "        print('PAPER')\n",
    "\n",
    "    elif com==2:\n",
    "        print('SCISSORS')\n",
    "    if com==guess:\n",
    "        print('It is a tie!')\n",
    "        t+=1\n",
    "    elif guess==0 and com==1:\n",
    "        print('You lose!')\n",
    "        l+=1\n",
    "    elif guess==1 and com==2:\n",
    "        print('You lose!')\n",
    "        l+=1\n",
    "    elif guess==2 and com==0:\n",
    "        print('You lose!')\n",
    "        l+=1\n",
    "    elif guess==0 and com==2:\n",
    "        print('You win!')\n",
    "        win=1\n",
    "    elif guess==1 and com==0:\n",
    "        print('You win!')\n",
    "        win=1\n",
    "    elif guess==2 and com==1:\n",
    "        print('You win!')\n",
    "        win=1\n",
    "print('You have',t,' ties and', l,' losses before your first win.')\n",
    "    "
   ]
  },
  {
   "cell_type": "code",
   "execution_count": null,
   "id": "22c4de1a-249a-46b3-95ef-a57e44d36ca8",
   "metadata": {},
   "outputs": [],
   "source": []
  },
  {
   "cell_type": "code",
   "execution_count": null,
   "id": "3251cc99-6375-4b2f-ab92-c0a1d5ab51bc",
   "metadata": {},
   "outputs": [],
   "source": []
  }
 ],
 "metadata": {
  "kernelspec": {
   "display_name": "Python 3",
   "language": "python",
   "name": "python3"
  },
  "language_info": {
   "codemirror_mode": {
    "name": "ipython",
    "version": 3
   },
   "file_extension": ".py",
   "mimetype": "text/x-python",
   "name": "python",
   "nbconvert_exporter": "python",
   "pygments_lexer": "ipython3",
   "version": "3.8.8"
  }
 },
 "nbformat": 4,
 "nbformat_minor": 5
}
