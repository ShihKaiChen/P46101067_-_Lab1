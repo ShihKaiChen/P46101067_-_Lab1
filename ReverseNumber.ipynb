{
 "cells": [
  {
   "cell_type": "code",
   "execution_count": null,
   "id": "8eae3d94-4985-40d0-9227-88fc100cfc48",
   "metadata": {},
   "outputs": [],
   "source": [
    "def reverse(num):\n",
    "    print(str(num)[::-1])\n",
    "    \n",
    "num = int(input('Enter an integer:'))\n",
    "reverse(num)"
   ]
  },
  {
   "cell_type": "code",
   "execution_count": null,
   "id": "2c3a5d11-9444-41c5-9c7e-4c3ede7cfbad",
   "metadata": {},
   "outputs": [],
   "source": []
  }
 ],
 "metadata": {
  "kernelspec": {
   "display_name": "Python 3",
   "language": "python",
   "name": "python3"
  },
  "language_info": {
   "codemirror_mode": {
    "name": "ipython",
    "version": 3
   },
   "file_extension": ".py",
   "mimetype": "text/x-python",
   "name": "python",
   "nbconvert_exporter": "python",
   "pygments_lexer": "ipython3",
   "version": "3.8.8"
  }
 },
 "nbformat": 4,
 "nbformat_minor": 5
}
