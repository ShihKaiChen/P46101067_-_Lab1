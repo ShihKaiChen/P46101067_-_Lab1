{
 "cells": [
  {
   "cell_type": "code",
   "execution_count": 1,
   "id": "9365aac4-c302-4500-9c41-1604cde02877",
   "metadata": {},
   "outputs": [],
   "source": [
    "class Nine_Coins:\n",
    "    def __init__(self,decimal,binary=0,HT=0):\n",
    "        self.decimal=decimal\n",
    "        self.binary=binary\n",
    "        num=[]\n",
    "        m=self.decimal\n",
    "        for n in range(9):\n",
    "            a=m//(2)\n",
    "            b=m%(2)\n",
    "            num += [str(b)]\n",
    "            m=a\n",
    "            self.binary ='' .join(num[::-1])\n",
    "        for n in range(9):\n",
    "            if num[n]=='0':\n",
    "                num[n]='H'\n",
    "            else:\n",
    "                num[n]='T'\n",
    "        self.HT='' .join(num[::-1])\n",
    "    def __str__ (self):\n",
    "        return f'binary: {self.binary} and decimal: {self.decimal}'\n",
    "        \n",
    "    def __repr__(self):\n",
    "        return f'Nine_Coins:{self.HT}'\n",
    "\n",
    "    def toss(self):\n",
    "        from random import randint\n",
    "        self.decimal=randint(0,512)\n",
    "        num=[]\n",
    "        m=self.decimal\n",
    "        for n in range(9):\n",
    "            a=m//(2)\n",
    "            b=m%(2)\n",
    "            num += [str(b)]\n",
    "            m=a\n",
    "            self.binary ='' .join(num[::-1])\n",
    "        for n in range(9):\n",
    "            if num[n]==\"0\":\n",
    "                num[n]='H'\n",
    "            else:\n",
    "                num[n]='T'\n",
    "        self.HT='' .join(num[::-1])"
   ]
  }
 ],
 "metadata": {
  "kernelspec": {
   "display_name": "Python 3",
   "language": "python",
   "name": "python3"
  },
  "language_info": {
   "codemirror_mode": {
    "name": "ipython",
    "version": 3
   },
   "file_extension": ".py",
   "mimetype": "text/x-python",
   "name": "python",
   "nbconvert_exporter": "python",
   "pygments_lexer": "ipython3",
   "version": "3.8.8"
  }
 },
 "nbformat": 4,
 "nbformat_minor": 5
}
