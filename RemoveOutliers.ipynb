{
 "cells": [
  {
   "cell_type": "code",
   "execution_count": null,
   "id": "d8caf590-4c12-45c0-9145-3013f2c814c8",
   "metadata": {},
   "outputs": [],
   "source": [
    "remove=int(input('Enter the number of smallest and largest values to remove:'))\n",
    "value=(input('Enter a value (q or Q to quit):'))\n",
    "list1=[]\n",
    "n=0\n",
    "if value=='q' or value=='Q':\n",
    "    print(\"Error,you have to input a number!\")\n",
    "else:\n",
    "    while value!='q' or value!='Q':\n",
    "        value=int(value)\n",
    "        list1.append(value)\n",
    "        value=input('Enter a value (q or Q to quit):')\n",
    "        n+=1\n",
    "        if value=='q' or value=='Q':\n",
    "            break\n",
    "    \n",
    "print('The original data:',list1)        \n",
    "list1.sort\n",
    "remove_list=list1[0:remove]\n",
    "remove_list=remove_list+list1[n-remove:n]\n",
    "del list1[0:remove]\n",
    "del list1[n-remove*2:n-remove]\n",
    "print('The data with the outliers removed:',list1)\n",
    "print('The outliers:',remove_list)"
   ]
  },
  {
   "cell_type": "code",
   "execution_count": null,
   "id": "c98522f2-422c-4890-917f-1b9a7be30530",
   "metadata": {},
   "outputs": [],
   "source": []
  }
 ],
 "metadata": {
  "kernelspec": {
   "display_name": "Python 3",
   "language": "python",
   "name": "python3"
  },
  "language_info": {
   "codemirror_mode": {
    "name": "ipython",
    "version": 3
   },
   "file_extension": ".py",
   "mimetype": "text/x-python",
   "name": "python",
   "nbconvert_exporter": "python",
   "pygments_lexer": "ipython3",
   "version": "3.8.8"
  }
 },
 "nbformat": 4,
 "nbformat_minor": 5
}
